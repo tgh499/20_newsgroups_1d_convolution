{
 "cells": [
  {
   "cell_type": "code",
   "execution_count": 20,
   "metadata": {},
   "outputs": [],
   "source": [
    "def get_entropy_sample_from_patch_entropy(image_sample):\n",
    "    #image_sample_normalized = np.true_divide(image_sample, 255)\n",
    "    new_image_sample = []\n",
    "    ranges = list(range(0, 256, 15))\n",
    "    range_dict = {}\n",
    "    for item,value in enumerate(ranges):\n",
    "        range_dict[value] = item \n",
    "\n",
    "    for index, feature in enumerate(image_sample):\n",
    "        for item in ranges:\n",
    "            if feature <= item:\n",
    "                new_image_sample.append(range_dict[item])\n",
    "                break\n",
    "    return(new_image_sample)"
   ]
  },
  {
   "cell_type": "code",
   "execution_count": 21,
   "metadata": {},
   "outputs": [
    {
     "name": "stdout",
     "output_type": "stream",
     "text": [
      "[0, 7, 14]\n"
     ]
    }
   ],
   "source": [
    "print(get_entropy_sample_from_patch_entropy([253, 0, 100, 200]))"
   ]
  },
  {
   "cell_type": "code",
   "execution_count": null,
   "metadata": {},
   "outputs": [],
   "source": []
  }
 ],
 "metadata": {
  "kernelspec": {
   "display_name": "Python 3.8.3 64-bit ('base')",
   "language": "python",
   "name": "python38364bitbase50bae7102fb34a9380fcab670ff4066f"
  },
  "language_info": {
   "codemirror_mode": {
    "name": "ipython",
    "version": 3
   },
   "file_extension": ".py",
   "mimetype": "text/x-python",
   "name": "python",
   "nbconvert_exporter": "python",
   "pygments_lexer": "ipython3",
   "version": "3.8.3"
  }
 },
 "nbformat": 4,
 "nbformat_minor": 4
}
